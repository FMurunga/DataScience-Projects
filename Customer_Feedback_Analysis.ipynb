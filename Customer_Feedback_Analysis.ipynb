{
  "nbformat": 4,
  "nbformat_minor": 0,
  "metadata": {
    "colab": {
      "name": "Customer Feedback Analysis.ipynb",
      "provenance": [],
      "collapsed_sections": [],
      "authorship_tag": "ABX9TyPlwQiwPV460DQUgV9S+Hy4",
      "include_colab_link": true
    },
    "kernelspec": {
      "name": "python3",
      "display_name": "Python 3"
    }
  },
  "cells": [
    {
      "cell_type": "markdown",
      "metadata": {
        "id": "view-in-github",
        "colab_type": "text"
      },
      "source": [
        "<a href=\"https://colab.research.google.com/github/FMurunga/DataScience-Projects/blob/main/Customer_Feedback_Analysis.ipynb\" target=\"_parent\"><img src=\"https://colab.research.google.com/assets/colab-badge.svg\" alt=\"Open In Colab\"/></a>"
      ]
    },
    {
      "cell_type": "code",
      "metadata": {
        "colab": {
          "base_uri": "https://localhost:8080/",
          "height": 419
        },
        "id": "OznYe5iIsVHw",
        "outputId": "3e864c4d-af6e-42c0-f42f-f63dfa7c2776"
      },
      "source": [
        "import pandas\n",
        "data = pandas.read_csv(\"https://modcom.co.ke/datasets/train.csv\", sep='\\t')\n",
        "data\n",
        "#print(data.groupby(\"Sentiment\").size())\n",
        "#0 IS negative\n",
        "#1 - Somehow Negative\n",
        "#2 - Neutral\n",
        "#3 - Somehow Positive\n",
        "#4 - Positive"
      ],
      "execution_count": null,
      "outputs": [
        {
          "output_type": "execute_result",
          "data": {
            "text/html": [
              "<div>\n",
              "<style scoped>\n",
              "    .dataframe tbody tr th:only-of-type {\n",
              "        vertical-align: middle;\n",
              "    }\n",
              "\n",
              "    .dataframe tbody tr th {\n",
              "        vertical-align: top;\n",
              "    }\n",
              "\n",
              "    .dataframe thead th {\n",
              "        text-align: right;\n",
              "    }\n",
              "</style>\n",
              "<table border=\"1\" class=\"dataframe\">\n",
              "  <thead>\n",
              "    <tr style=\"text-align: right;\">\n",
              "      <th></th>\n",
              "      <th>PhraseId</th>\n",
              "      <th>SentenceId</th>\n",
              "      <th>Phrase</th>\n",
              "      <th>Sentiment</th>\n",
              "    </tr>\n",
              "  </thead>\n",
              "  <tbody>\n",
              "    <tr>\n",
              "      <th>0</th>\n",
              "      <td>1</td>\n",
              "      <td>1</td>\n",
              "      <td>A series of escapades demonstrating the adage ...</td>\n",
              "      <td>1</td>\n",
              "    </tr>\n",
              "    <tr>\n",
              "      <th>1</th>\n",
              "      <td>2</td>\n",
              "      <td>1</td>\n",
              "      <td>A series of escapades demonstrating the adage ...</td>\n",
              "      <td>2</td>\n",
              "    </tr>\n",
              "    <tr>\n",
              "      <th>2</th>\n",
              "      <td>3</td>\n",
              "      <td>1</td>\n",
              "      <td>A series</td>\n",
              "      <td>2</td>\n",
              "    </tr>\n",
              "    <tr>\n",
              "      <th>3</th>\n",
              "      <td>4</td>\n",
              "      <td>1</td>\n",
              "      <td>A</td>\n",
              "      <td>2</td>\n",
              "    </tr>\n",
              "    <tr>\n",
              "      <th>4</th>\n",
              "      <td>5</td>\n",
              "      <td>1</td>\n",
              "      <td>series</td>\n",
              "      <td>2</td>\n",
              "    </tr>\n",
              "    <tr>\n",
              "      <th>...</th>\n",
              "      <td>...</td>\n",
              "      <td>...</td>\n",
              "      <td>...</td>\n",
              "      <td>...</td>\n",
              "    </tr>\n",
              "    <tr>\n",
              "      <th>156055</th>\n",
              "      <td>156056</td>\n",
              "      <td>8544</td>\n",
              "      <td>Hearst 's</td>\n",
              "      <td>2</td>\n",
              "    </tr>\n",
              "    <tr>\n",
              "      <th>156056</th>\n",
              "      <td>156057</td>\n",
              "      <td>8544</td>\n",
              "      <td>forced avuncular chortles</td>\n",
              "      <td>1</td>\n",
              "    </tr>\n",
              "    <tr>\n",
              "      <th>156057</th>\n",
              "      <td>156058</td>\n",
              "      <td>8544</td>\n",
              "      <td>avuncular chortles</td>\n",
              "      <td>3</td>\n",
              "    </tr>\n",
              "    <tr>\n",
              "      <th>156058</th>\n",
              "      <td>156059</td>\n",
              "      <td>8544</td>\n",
              "      <td>avuncular</td>\n",
              "      <td>2</td>\n",
              "    </tr>\n",
              "    <tr>\n",
              "      <th>156059</th>\n",
              "      <td>156060</td>\n",
              "      <td>8544</td>\n",
              "      <td>chortles</td>\n",
              "      <td>2</td>\n",
              "    </tr>\n",
              "  </tbody>\n",
              "</table>\n",
              "<p>156060 rows × 4 columns</p>\n",
              "</div>"
            ],
            "text/plain": [
              "        PhraseId  ...  Sentiment\n",
              "0              1  ...          1\n",
              "1              2  ...          2\n",
              "2              3  ...          2\n",
              "3              4  ...          2\n",
              "4              5  ...          2\n",
              "...          ...  ...        ...\n",
              "156055    156056  ...          2\n",
              "156056    156057  ...          1\n",
              "156057    156058  ...          3\n",
              "156058    156059  ...          2\n",
              "156059    156060  ...          2\n",
              "\n",
              "[156060 rows x 4 columns]"
            ]
          },
          "metadata": {
            "tags": []
          },
          "execution_count": 4
        }
      ]
    },
    {
      "cell_type": "code",
      "metadata": {
        "colab": {
          "base_uri": "https://localhost:8080/"
        },
        "id": "6ORVoQEYvQu-",
        "outputId": "17d42ff8-d45f-4579-8d04-cbbe5bef1f5d"
      },
      "source": [
        "#Training\n",
        "\n",
        "#Step 1: split  data\n",
        "from sklearn import model_selection\n",
        "X_train, X_test, Y_train,Y_test = model_selection.train_test_split(data['Phrase'], data['Sentiment'], test_size = 0.30, random_state=42)\n",
        "\n",
        "#Step2:Remove stop words from X_train & X_test\n",
        "from sklearn.feature_extraction.text import CountVectorizer\n",
        "cv = CountVectorizer(lowercase = True, stop_words = 'english')\n",
        "X_train2 = cv.fit_transform(X_train)\n",
        "X_test2 = cv.transform(X_test)\n",
        "\n",
        "print(data.groupby('Sentiment').size())\n",
        "\n",
        "#Step 3:create a model to train\n",
        "#MultinomialNB model trains on text\n",
        "from sklearn.naive_bayes import MultinomialNB\n",
        "model=MultinomialNB()\n",
        "model.fit(X_train2,Y_train)\n",
        "print('Model Learning using phrase and sentiments')\n",
        "#we used 70% of data\n",
        "\n",
        "#Step 4:Test the model\n",
        "predictions = model.predict(X_test2)\n",
        "print('Predicted', predictions)\n",
        "\n",
        "#test the accuracy\n",
        "from sklearn.metrics import accuracy_score\n",
        "print(\"Model Accuracy\", accuracy_score(Y_test,predictions))\n",
        "#the model is 60% accurate\n",
        "\n",
        "#step 5: Start predicting customer feedback\n",
        "\n",
        "customer_feedback = [['escapades demonstrating the adage '], ['escapades series '],['forced avuncular chortles\t']]\n",
        "df = pandas.DataFrame(customer_feedback,columns=['Phrase'])\n",
        "df\n",
        "#remove stop words to new\n",
        "texts = cv.transform(df['Phrase'])\n",
        "outcome = model.predict(texts)\n",
        "print(outcome)\n",
        "\n",
        "# sentiment = model.predict(customer_feedback)\n",
        "# print(sentiment)"
      ],
      "execution_count": null,
      "outputs": [
        {
          "output_type": "stream",
          "text": [
            "Sentiment\n",
            "0     7072\n",
            "1    27273\n",
            "2    79582\n",
            "3    32927\n",
            "4     9206\n",
            "dtype: int64\n",
            "Model Learning using phrase and sentiments\n",
            "Predicted [2 4 2 ... 2 3 2]\n",
            "Model Accuracy 0.6060703148361741\n",
            "[2 2 2]\n"
          ],
          "name": "stdout"
        }
      ]
    },
    {
      "cell_type": "code",
      "metadata": {
        "id": "8sWXY7AIxxPh"
      },
      "source": [
        ""
      ],
      "execution_count": null,
      "outputs": []
    }
  ]
}