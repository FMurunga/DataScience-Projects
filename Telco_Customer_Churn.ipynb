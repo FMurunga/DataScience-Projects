{
  "nbformat": 4,
  "nbformat_minor": 0,
  "metadata": {
    "colab": {
      "name": "Telco_Customer_Churn.ipynb",
      "provenance": [],
      "authorship_tag": "ABX9TyM10Kfef3hJUrnF0ZbGjNOe",
      "include_colab_link": true
    },
    "kernelspec": {
      "name": "python3",
      "display_name": "Python 3"
    },
    "language_info": {
      "name": "python"
    }
  },
  "cells": [
    {
      "cell_type": "markdown",
      "metadata": {
        "id": "view-in-github",
        "colab_type": "text"
      },
      "source": [
        "<a href=\"https://colab.research.google.com/github/FMurunga/DataScience-Projects/blob/main/Telco_Customer_Churn.ipynb\" target=\"_parent\"><img src=\"https://colab.research.google.com/assets/colab-badge.svg\" alt=\"Open In Colab\"/></a>"
      ]
    },
    {
      "cell_type": "code",
      "execution_count": 1,
      "metadata": {
        "id": "f-RRVRNyiSdT"
      },
      "outputs": [],
      "source": [
        "import warnings\n",
        "import pandas as pd\n",
        "import numpy as np\n",
        "import matplotlib.pyplot as plt\n",
        "import seaborn as sns\n"
      ]
    },
    {
      "cell_type": "code",
      "source": [
        "data = pd.read_excel('https://raw.github.com/FMurunga/DataScience-Projects/main/Telco_customer_churn.xlsx')\n",
        "data.head()"
      ],
      "metadata": {
        "colab": {
          "base_uri": "https://localhost:8080/",
          "height": 438
        },
        "id": "dqFlUZ1tjK0Y",
        "outputId": "3c8f1f34-2e7e-456e-ffec-bf5ebbaafdaa"
      },
      "execution_count": 2,
      "outputs": [
        {
          "output_type": "execute_result",
          "data": {
            "text/plain": [
              "   CustomerID  Count        Country       State         City  Zip Code  \\\n",
              "0  3668-QPYBK      1  United States  California  Los Angeles     90003   \n",
              "1  9237-HQITU      1  United States  California  Los Angeles     90005   \n",
              "2  9305-CDSKC      1  United States  California  Los Angeles     90006   \n",
              "3  7892-POOKP      1  United States  California  Los Angeles     90010   \n",
              "4  0280-XJGEX      1  United States  California  Los Angeles     90015   \n",
              "\n",
              "                 Lat Long   Latitude   Longitude  Gender  ...        Contract  \\\n",
              "0  33.964131, -118.272783  33.964131 -118.272783    Male  ...  Month-to-month   \n",
              "1   34.059281, -118.30742  34.059281 -118.307420  Female  ...  Month-to-month   \n",
              "2  34.048013, -118.293953  34.048013 -118.293953  Female  ...  Month-to-month   \n",
              "3  34.062125, -118.315709  34.062125 -118.315709  Female  ...  Month-to-month   \n",
              "4  34.039224, -118.266293  34.039224 -118.266293    Male  ...  Month-to-month   \n",
              "\n",
              "  Paperless Billing             Payment Method  Monthly Charges Total Charges  \\\n",
              "0               Yes               Mailed check            53.85        108.15   \n",
              "1               Yes           Electronic check            70.70        151.65   \n",
              "2               Yes           Electronic check            99.65         820.5   \n",
              "3               Yes           Electronic check           104.80       3046.05   \n",
              "4               Yes  Bank transfer (automatic)           103.70        5036.3   \n",
              "\n",
              "  Churn Label Churn Value Churn Score  CLTV                   Churn Reason  \n",
              "0         Yes           1          86  3239   Competitor made better offer  \n",
              "1         Yes           1          67  2701                          Moved  \n",
              "2         Yes           1          86  5372                          Moved  \n",
              "3         Yes           1          84  5003                          Moved  \n",
              "4         Yes           1          89  5340  Competitor had better devices  \n",
              "\n",
              "[5 rows x 33 columns]"
            ],
            "text/html": [
              "\n",
              "  <div id=\"df-2ba12891-6a4e-4bbb-bc6a-59f584c3724d\">\n",
              "    <div class=\"colab-df-container\">\n",
              "      <div>\n",
              "<style scoped>\n",
              "    .dataframe tbody tr th:only-of-type {\n",
              "        vertical-align: middle;\n",
              "    }\n",
              "\n",
              "    .dataframe tbody tr th {\n",
              "        vertical-align: top;\n",
              "    }\n",
              "\n",
              "    .dataframe thead th {\n",
              "        text-align: right;\n",
              "    }\n",
              "</style>\n",
              "<table border=\"1\" class=\"dataframe\">\n",
              "  <thead>\n",
              "    <tr style=\"text-align: right;\">\n",
              "      <th></th>\n",
              "      <th>CustomerID</th>\n",
              "      <th>Count</th>\n",
              "      <th>Country</th>\n",
              "      <th>State</th>\n",
              "      <th>City</th>\n",
              "      <th>Zip Code</th>\n",
              "      <th>Lat Long</th>\n",
              "      <th>Latitude</th>\n",
              "      <th>Longitude</th>\n",
              "      <th>Gender</th>\n",
              "      <th>...</th>\n",
              "      <th>Contract</th>\n",
              "      <th>Paperless Billing</th>\n",
              "      <th>Payment Method</th>\n",
              "      <th>Monthly Charges</th>\n",
              "      <th>Total Charges</th>\n",
              "      <th>Churn Label</th>\n",
              "      <th>Churn Value</th>\n",
              "      <th>Churn Score</th>\n",
              "      <th>CLTV</th>\n",
              "      <th>Churn Reason</th>\n",
              "    </tr>\n",
              "  </thead>\n",
              "  <tbody>\n",
              "    <tr>\n",
              "      <th>0</th>\n",
              "      <td>3668-QPYBK</td>\n",
              "      <td>1</td>\n",
              "      <td>United States</td>\n",
              "      <td>California</td>\n",
              "      <td>Los Angeles</td>\n",
              "      <td>90003</td>\n",
              "      <td>33.964131, -118.272783</td>\n",
              "      <td>33.964131</td>\n",
              "      <td>-118.272783</td>\n",
              "      <td>Male</td>\n",
              "      <td>...</td>\n",
              "      <td>Month-to-month</td>\n",
              "      <td>Yes</td>\n",
              "      <td>Mailed check</td>\n",
              "      <td>53.85</td>\n",
              "      <td>108.15</td>\n",
              "      <td>Yes</td>\n",
              "      <td>1</td>\n",
              "      <td>86</td>\n",
              "      <td>3239</td>\n",
              "      <td>Competitor made better offer</td>\n",
              "    </tr>\n",
              "    <tr>\n",
              "      <th>1</th>\n",
              "      <td>9237-HQITU</td>\n",
              "      <td>1</td>\n",
              "      <td>United States</td>\n",
              "      <td>California</td>\n",
              "      <td>Los Angeles</td>\n",
              "      <td>90005</td>\n",
              "      <td>34.059281, -118.30742</td>\n",
              "      <td>34.059281</td>\n",
              "      <td>-118.307420</td>\n",
              "      <td>Female</td>\n",
              "      <td>...</td>\n",
              "      <td>Month-to-month</td>\n",
              "      <td>Yes</td>\n",
              "      <td>Electronic check</td>\n",
              "      <td>70.70</td>\n",
              "      <td>151.65</td>\n",
              "      <td>Yes</td>\n",
              "      <td>1</td>\n",
              "      <td>67</td>\n",
              "      <td>2701</td>\n",
              "      <td>Moved</td>\n",
              "    </tr>\n",
              "    <tr>\n",
              "      <th>2</th>\n",
              "      <td>9305-CDSKC</td>\n",
              "      <td>1</td>\n",
              "      <td>United States</td>\n",
              "      <td>California</td>\n",
              "      <td>Los Angeles</td>\n",
              "      <td>90006</td>\n",
              "      <td>34.048013, -118.293953</td>\n",
              "      <td>34.048013</td>\n",
              "      <td>-118.293953</td>\n",
              "      <td>Female</td>\n",
              "      <td>...</td>\n",
              "      <td>Month-to-month</td>\n",
              "      <td>Yes</td>\n",
              "      <td>Electronic check</td>\n",
              "      <td>99.65</td>\n",
              "      <td>820.5</td>\n",
              "      <td>Yes</td>\n",
              "      <td>1</td>\n",
              "      <td>86</td>\n",
              "      <td>5372</td>\n",
              "      <td>Moved</td>\n",
              "    </tr>\n",
              "    <tr>\n",
              "      <th>3</th>\n",
              "      <td>7892-POOKP</td>\n",
              "      <td>1</td>\n",
              "      <td>United States</td>\n",
              "      <td>California</td>\n",
              "      <td>Los Angeles</td>\n",
              "      <td>90010</td>\n",
              "      <td>34.062125, -118.315709</td>\n",
              "      <td>34.062125</td>\n",
              "      <td>-118.315709</td>\n",
              "      <td>Female</td>\n",
              "      <td>...</td>\n",
              "      <td>Month-to-month</td>\n",
              "      <td>Yes</td>\n",
              "      <td>Electronic check</td>\n",
              "      <td>104.80</td>\n",
              "      <td>3046.05</td>\n",
              "      <td>Yes</td>\n",
              "      <td>1</td>\n",
              "      <td>84</td>\n",
              "      <td>5003</td>\n",
              "      <td>Moved</td>\n",
              "    </tr>\n",
              "    <tr>\n",
              "      <th>4</th>\n",
              "      <td>0280-XJGEX</td>\n",
              "      <td>1</td>\n",
              "      <td>United States</td>\n",
              "      <td>California</td>\n",
              "      <td>Los Angeles</td>\n",
              "      <td>90015</td>\n",
              "      <td>34.039224, -118.266293</td>\n",
              "      <td>34.039224</td>\n",
              "      <td>-118.266293</td>\n",
              "      <td>Male</td>\n",
              "      <td>...</td>\n",
              "      <td>Month-to-month</td>\n",
              "      <td>Yes</td>\n",
              "      <td>Bank transfer (automatic)</td>\n",
              "      <td>103.70</td>\n",
              "      <td>5036.3</td>\n",
              "      <td>Yes</td>\n",
              "      <td>1</td>\n",
              "      <td>89</td>\n",
              "      <td>5340</td>\n",
              "      <td>Competitor had better devices</td>\n",
              "    </tr>\n",
              "  </tbody>\n",
              "</table>\n",
              "<p>5 rows × 33 columns</p>\n",
              "</div>\n",
              "      <button class=\"colab-df-convert\" onclick=\"convertToInteractive('df-2ba12891-6a4e-4bbb-bc6a-59f584c3724d')\"\n",
              "              title=\"Convert this dataframe to an interactive table.\"\n",
              "              style=\"display:none;\">\n",
              "        \n",
              "  <svg xmlns=\"http://www.w3.org/2000/svg\" height=\"24px\"viewBox=\"0 0 24 24\"\n",
              "       width=\"24px\">\n",
              "    <path d=\"M0 0h24v24H0V0z\" fill=\"none\"/>\n",
              "    <path d=\"M18.56 5.44l.94 2.06.94-2.06 2.06-.94-2.06-.94-.94-2.06-.94 2.06-2.06.94zm-11 1L8.5 8.5l.94-2.06 2.06-.94-2.06-.94L8.5 2.5l-.94 2.06-2.06.94zm10 10l.94 2.06.94-2.06 2.06-.94-2.06-.94-.94-2.06-.94 2.06-2.06.94z\"/><path d=\"M17.41 7.96l-1.37-1.37c-.4-.4-.92-.59-1.43-.59-.52 0-1.04.2-1.43.59L10.3 9.45l-7.72 7.72c-.78.78-.78 2.05 0 2.83L4 21.41c.39.39.9.59 1.41.59.51 0 1.02-.2 1.41-.59l7.78-7.78 2.81-2.81c.8-.78.8-2.07 0-2.86zM5.41 20L4 18.59l7.72-7.72 1.47 1.35L5.41 20z\"/>\n",
              "  </svg>\n",
              "      </button>\n",
              "      \n",
              "  <style>\n",
              "    .colab-df-container {\n",
              "      display:flex;\n",
              "      flex-wrap:wrap;\n",
              "      gap: 12px;\n",
              "    }\n",
              "\n",
              "    .colab-df-convert {\n",
              "      background-color: #E8F0FE;\n",
              "      border: none;\n",
              "      border-radius: 50%;\n",
              "      cursor: pointer;\n",
              "      display: none;\n",
              "      fill: #1967D2;\n",
              "      height: 32px;\n",
              "      padding: 0 0 0 0;\n",
              "      width: 32px;\n",
              "    }\n",
              "\n",
              "    .colab-df-convert:hover {\n",
              "      background-color: #E2EBFA;\n",
              "      box-shadow: 0px 1px 2px rgba(60, 64, 67, 0.3), 0px 1px 3px 1px rgba(60, 64, 67, 0.15);\n",
              "      fill: #174EA6;\n",
              "    }\n",
              "\n",
              "    [theme=dark] .colab-df-convert {\n",
              "      background-color: #3B4455;\n",
              "      fill: #D2E3FC;\n",
              "    }\n",
              "\n",
              "    [theme=dark] .colab-df-convert:hover {\n",
              "      background-color: #434B5C;\n",
              "      box-shadow: 0px 1px 3px 1px rgba(0, 0, 0, 0.15);\n",
              "      filter: drop-shadow(0px 1px 2px rgba(0, 0, 0, 0.3));\n",
              "      fill: #FFFFFF;\n",
              "    }\n",
              "  </style>\n",
              "\n",
              "      <script>\n",
              "        const buttonEl =\n",
              "          document.querySelector('#df-2ba12891-6a4e-4bbb-bc6a-59f584c3724d button.colab-df-convert');\n",
              "        buttonEl.style.display =\n",
              "          google.colab.kernel.accessAllowed ? 'block' : 'none';\n",
              "\n",
              "        async function convertToInteractive(key) {\n",
              "          const element = document.querySelector('#df-2ba12891-6a4e-4bbb-bc6a-59f584c3724d');\n",
              "          const dataTable =\n",
              "            await google.colab.kernel.invokeFunction('convertToInteractive',\n",
              "                                                     [key], {});\n",
              "          if (!dataTable) return;\n",
              "\n",
              "          const docLinkHtml = 'Like what you see? Visit the ' +\n",
              "            '<a target=\"_blank\" href=https://colab.research.google.com/notebooks/data_table.ipynb>data table notebook</a>'\n",
              "            + ' to learn more about interactive tables.';\n",
              "          element.innerHTML = '';\n",
              "          dataTable['output_type'] = 'display_data';\n",
              "          await google.colab.output.renderOutput(dataTable, element);\n",
              "          const docLink = document.createElement('div');\n",
              "          docLink.innerHTML = docLinkHtml;\n",
              "          element.appendChild(docLink);\n",
              "        }\n",
              "      </script>\n",
              "    </div>\n",
              "  </div>\n",
              "  "
            ]
          },
          "metadata": {},
          "execution_count": 2
        }
      ]
    },
    {
      "cell_type": "markdown",
      "source": [
        "Overview of the dataset"
      ],
      "metadata": {
        "id": "GIf9_Zv0NSp3"
      }
    },
    {
      "cell_type": "code",
      "source": [
        "data.describe()"
      ],
      "metadata": {
        "colab": {
          "base_uri": "https://localhost:8080/",
          "height": 300
        },
        "id": "qyzSG26SkWmH",
        "outputId": "53136582-6979-49e9-8e5b-a612efa396c9"
      },
      "execution_count": 3,
      "outputs": [
        {
          "output_type": "execute_result",
          "data": {
            "text/plain": [
              "        Count      Zip Code     Latitude    Longitude  Tenure Months  \\\n",
              "count  7043.0   7043.000000  7043.000000  7043.000000    7043.000000   \n",
              "mean      1.0  93521.964646    36.282441  -119.798880      32.371149   \n",
              "std       0.0   1865.794555     2.455723     2.157889      24.559481   \n",
              "min       1.0  90001.000000    32.555828  -124.301372       0.000000   \n",
              "25%       1.0  92102.000000    34.030915  -121.815412       9.000000   \n",
              "50%       1.0  93552.000000    36.391777  -119.730885      29.000000   \n",
              "75%       1.0  95351.000000    38.224869  -118.043237      55.000000   \n",
              "max       1.0  96161.000000    41.962127  -114.192901      72.000000   \n",
              "\n",
              "       Monthly Charges  Churn Value  Churn Score         CLTV  \n",
              "count      7043.000000  7043.000000  7043.000000  7043.000000  \n",
              "mean         64.761692     0.265370    58.699418  4400.295755  \n",
              "std          30.090047     0.441561    21.525131  1183.057152  \n",
              "min          18.250000     0.000000     5.000000  2003.000000  \n",
              "25%          35.500000     0.000000    40.000000  3469.000000  \n",
              "50%          70.350000     0.000000    61.000000  4527.000000  \n",
              "75%          89.850000     1.000000    75.000000  5380.500000  \n",
              "max         118.750000     1.000000   100.000000  6500.000000  "
            ],
            "text/html": [
              "\n",
              "  <div id=\"df-61d45c4f-275e-419a-94c4-4e86b2e2ab1a\">\n",
              "    <div class=\"colab-df-container\">\n",
              "      <div>\n",
              "<style scoped>\n",
              "    .dataframe tbody tr th:only-of-type {\n",
              "        vertical-align: middle;\n",
              "    }\n",
              "\n",
              "    .dataframe tbody tr th {\n",
              "        vertical-align: top;\n",
              "    }\n",
              "\n",
              "    .dataframe thead th {\n",
              "        text-align: right;\n",
              "    }\n",
              "</style>\n",
              "<table border=\"1\" class=\"dataframe\">\n",
              "  <thead>\n",
              "    <tr style=\"text-align: right;\">\n",
              "      <th></th>\n",
              "      <th>Count</th>\n",
              "      <th>Zip Code</th>\n",
              "      <th>Latitude</th>\n",
              "      <th>Longitude</th>\n",
              "      <th>Tenure Months</th>\n",
              "      <th>Monthly Charges</th>\n",
              "      <th>Churn Value</th>\n",
              "      <th>Churn Score</th>\n",
              "      <th>CLTV</th>\n",
              "    </tr>\n",
              "  </thead>\n",
              "  <tbody>\n",
              "    <tr>\n",
              "      <th>count</th>\n",
              "      <td>7043.0</td>\n",
              "      <td>7043.000000</td>\n",
              "      <td>7043.000000</td>\n",
              "      <td>7043.000000</td>\n",
              "      <td>7043.000000</td>\n",
              "      <td>7043.000000</td>\n",
              "      <td>7043.000000</td>\n",
              "      <td>7043.000000</td>\n",
              "      <td>7043.000000</td>\n",
              "    </tr>\n",
              "    <tr>\n",
              "      <th>mean</th>\n",
              "      <td>1.0</td>\n",
              "      <td>93521.964646</td>\n",
              "      <td>36.282441</td>\n",
              "      <td>-119.798880</td>\n",
              "      <td>32.371149</td>\n",
              "      <td>64.761692</td>\n",
              "      <td>0.265370</td>\n",
              "      <td>58.699418</td>\n",
              "      <td>4400.295755</td>\n",
              "    </tr>\n",
              "    <tr>\n",
              "      <th>std</th>\n",
              "      <td>0.0</td>\n",
              "      <td>1865.794555</td>\n",
              "      <td>2.455723</td>\n",
              "      <td>2.157889</td>\n",
              "      <td>24.559481</td>\n",
              "      <td>30.090047</td>\n",
              "      <td>0.441561</td>\n",
              "      <td>21.525131</td>\n",
              "      <td>1183.057152</td>\n",
              "    </tr>\n",
              "    <tr>\n",
              "      <th>min</th>\n",
              "      <td>1.0</td>\n",
              "      <td>90001.000000</td>\n",
              "      <td>32.555828</td>\n",
              "      <td>-124.301372</td>\n",
              "      <td>0.000000</td>\n",
              "      <td>18.250000</td>\n",
              "      <td>0.000000</td>\n",
              "      <td>5.000000</td>\n",
              "      <td>2003.000000</td>\n",
              "    </tr>\n",
              "    <tr>\n",
              "      <th>25%</th>\n",
              "      <td>1.0</td>\n",
              "      <td>92102.000000</td>\n",
              "      <td>34.030915</td>\n",
              "      <td>-121.815412</td>\n",
              "      <td>9.000000</td>\n",
              "      <td>35.500000</td>\n",
              "      <td>0.000000</td>\n",
              "      <td>40.000000</td>\n",
              "      <td>3469.000000</td>\n",
              "    </tr>\n",
              "    <tr>\n",
              "      <th>50%</th>\n",
              "      <td>1.0</td>\n",
              "      <td>93552.000000</td>\n",
              "      <td>36.391777</td>\n",
              "      <td>-119.730885</td>\n",
              "      <td>29.000000</td>\n",
              "      <td>70.350000</td>\n",
              "      <td>0.000000</td>\n",
              "      <td>61.000000</td>\n",
              "      <td>4527.000000</td>\n",
              "    </tr>\n",
              "    <tr>\n",
              "      <th>75%</th>\n",
              "      <td>1.0</td>\n",
              "      <td>95351.000000</td>\n",
              "      <td>38.224869</td>\n",
              "      <td>-118.043237</td>\n",
              "      <td>55.000000</td>\n",
              "      <td>89.850000</td>\n",
              "      <td>1.000000</td>\n",
              "      <td>75.000000</td>\n",
              "      <td>5380.500000</td>\n",
              "    </tr>\n",
              "    <tr>\n",
              "      <th>max</th>\n",
              "      <td>1.0</td>\n",
              "      <td>96161.000000</td>\n",
              "      <td>41.962127</td>\n",
              "      <td>-114.192901</td>\n",
              "      <td>72.000000</td>\n",
              "      <td>118.750000</td>\n",
              "      <td>1.000000</td>\n",
              "      <td>100.000000</td>\n",
              "      <td>6500.000000</td>\n",
              "    </tr>\n",
              "  </tbody>\n",
              "</table>\n",
              "</div>\n",
              "      <button class=\"colab-df-convert\" onclick=\"convertToInteractive('df-61d45c4f-275e-419a-94c4-4e86b2e2ab1a')\"\n",
              "              title=\"Convert this dataframe to an interactive table.\"\n",
              "              style=\"display:none;\">\n",
              "        \n",
              "  <svg xmlns=\"http://www.w3.org/2000/svg\" height=\"24px\"viewBox=\"0 0 24 24\"\n",
              "       width=\"24px\">\n",
              "    <path d=\"M0 0h24v24H0V0z\" fill=\"none\"/>\n",
              "    <path d=\"M18.56 5.44l.94 2.06.94-2.06 2.06-.94-2.06-.94-.94-2.06-.94 2.06-2.06.94zm-11 1L8.5 8.5l.94-2.06 2.06-.94-2.06-.94L8.5 2.5l-.94 2.06-2.06.94zm10 10l.94 2.06.94-2.06 2.06-.94-2.06-.94-.94-2.06-.94 2.06-2.06.94z\"/><path d=\"M17.41 7.96l-1.37-1.37c-.4-.4-.92-.59-1.43-.59-.52 0-1.04.2-1.43.59L10.3 9.45l-7.72 7.72c-.78.78-.78 2.05 0 2.83L4 21.41c.39.39.9.59 1.41.59.51 0 1.02-.2 1.41-.59l7.78-7.78 2.81-2.81c.8-.78.8-2.07 0-2.86zM5.41 20L4 18.59l7.72-7.72 1.47 1.35L5.41 20z\"/>\n",
              "  </svg>\n",
              "      </button>\n",
              "      \n",
              "  <style>\n",
              "    .colab-df-container {\n",
              "      display:flex;\n",
              "      flex-wrap:wrap;\n",
              "      gap: 12px;\n",
              "    }\n",
              "\n",
              "    .colab-df-convert {\n",
              "      background-color: #E8F0FE;\n",
              "      border: none;\n",
              "      border-radius: 50%;\n",
              "      cursor: pointer;\n",
              "      display: none;\n",
              "      fill: #1967D2;\n",
              "      height: 32px;\n",
              "      padding: 0 0 0 0;\n",
              "      width: 32px;\n",
              "    }\n",
              "\n",
              "    .colab-df-convert:hover {\n",
              "      background-color: #E2EBFA;\n",
              "      box-shadow: 0px 1px 2px rgba(60, 64, 67, 0.3), 0px 1px 3px 1px rgba(60, 64, 67, 0.15);\n",
              "      fill: #174EA6;\n",
              "    }\n",
              "\n",
              "    [theme=dark] .colab-df-convert {\n",
              "      background-color: #3B4455;\n",
              "      fill: #D2E3FC;\n",
              "    }\n",
              "\n",
              "    [theme=dark] .colab-df-convert:hover {\n",
              "      background-color: #434B5C;\n",
              "      box-shadow: 0px 1px 3px 1px rgba(0, 0, 0, 0.15);\n",
              "      filter: drop-shadow(0px 1px 2px rgba(0, 0, 0, 0.3));\n",
              "      fill: #FFFFFF;\n",
              "    }\n",
              "  </style>\n",
              "\n",
              "      <script>\n",
              "        const buttonEl =\n",
              "          document.querySelector('#df-61d45c4f-275e-419a-94c4-4e86b2e2ab1a button.colab-df-convert');\n",
              "        buttonEl.style.display =\n",
              "          google.colab.kernel.accessAllowed ? 'block' : 'none';\n",
              "\n",
              "        async function convertToInteractive(key) {\n",
              "          const element = document.querySelector('#df-61d45c4f-275e-419a-94c4-4e86b2e2ab1a');\n",
              "          const dataTable =\n",
              "            await google.colab.kernel.invokeFunction('convertToInteractive',\n",
              "                                                     [key], {});\n",
              "          if (!dataTable) return;\n",
              "\n",
              "          const docLinkHtml = 'Like what you see? Visit the ' +\n",
              "            '<a target=\"_blank\" href=https://colab.research.google.com/notebooks/data_table.ipynb>data table notebook</a>'\n",
              "            + ' to learn more about interactive tables.';\n",
              "          element.innerHTML = '';\n",
              "          dataTable['output_type'] = 'display_data';\n",
              "          await google.colab.output.renderOutput(dataTable, element);\n",
              "          const docLink = document.createElement('div');\n",
              "          docLink.innerHTML = docLinkHtml;\n",
              "          element.appendChild(docLink);\n",
              "        }\n",
              "      </script>\n",
              "    </div>\n",
              "  </div>\n",
              "  "
            ]
          },
          "metadata": {},
          "execution_count": 3
        }
      ]
    },
    {
      "cell_type": "code",
      "source": [
        "data.columns.values"
      ],
      "metadata": {
        "colab": {
          "base_uri": "https://localhost:8080/"
        },
        "id": "kNYDQ1RUlppL",
        "outputId": "b0a27b12-286f-423d-f333-b347b3b3e6f1"
      },
      "execution_count": 4,
      "outputs": [
        {
          "output_type": "execute_result",
          "data": {
            "text/plain": [
              "array(['CustomerID', 'Count', 'Country', 'State', 'City', 'Zip Code',\n",
              "       'Lat Long', 'Latitude', 'Longitude', 'Gender', 'Senior Citizen',\n",
              "       'Partner', 'Dependents', 'Tenure Months', 'Phone Service',\n",
              "       'Multiple Lines', 'Internet Service', 'Online Security',\n",
              "       'Online Backup', 'Device Protection', 'Tech Support',\n",
              "       'Streaming TV', 'Streaming Movies', 'Contract',\n",
              "       'Paperless Billing', 'Payment Method', 'Monthly Charges',\n",
              "       'Total Charges', 'Churn Label', 'Churn Value', 'Churn Score',\n",
              "       'CLTV', 'Churn Reason'], dtype=object)"
            ]
          },
          "metadata": {},
          "execution_count": 4
        }
      ]
    },
    {
      "cell_type": "code",
      "source": [
        "data.dtypes"
      ],
      "metadata": {
        "colab": {
          "base_uri": "https://localhost:8080/"
        },
        "id": "nqWn7nZSppaf",
        "outputId": "70f5e552-81aa-4578-c67b-ea907440247e"
      },
      "execution_count": 5,
      "outputs": [
        {
          "output_type": "execute_result",
          "data": {
            "text/plain": [
              "CustomerID            object\n",
              "Count                  int64\n",
              "Country               object\n",
              "State                 object\n",
              "City                  object\n",
              "Zip Code               int64\n",
              "Lat Long              object\n",
              "Latitude             float64\n",
              "Longitude            float64\n",
              "Gender                object\n",
              "Senior Citizen        object\n",
              "Partner               object\n",
              "Dependents            object\n",
              "Tenure Months          int64\n",
              "Phone Service         object\n",
              "Multiple Lines        object\n",
              "Internet Service      object\n",
              "Online Security       object\n",
              "Online Backup         object\n",
              "Device Protection     object\n",
              "Tech Support          object\n",
              "Streaming TV          object\n",
              "Streaming Movies      object\n",
              "Contract              object\n",
              "Paperless Billing     object\n",
              "Payment Method        object\n",
              "Monthly Charges      float64\n",
              "Total Charges         object\n",
              "Churn Label           object\n",
              "Churn Value            int64\n",
              "Churn Score            int64\n",
              "CLTV                   int64\n",
              "Churn Reason          object\n",
              "dtype: object"
            ]
          },
          "metadata": {},
          "execution_count": 5
        }
      ]
    },
    {
      "cell_type": "code",
      "source": [
        "data.isnull().sum()"
      ],
      "metadata": {
        "colab": {
          "base_uri": "https://localhost:8080/"
        },
        "id": "vyyn9mrXvR6Y",
        "outputId": "6133ad4a-1f72-41b2-cfb8-e7ec15c06b2f"
      },
      "execution_count": 6,
      "outputs": [
        {
          "output_type": "execute_result",
          "data": {
            "text/plain": [
              "CustomerID              0\n",
              "Count                   0\n",
              "Country                 0\n",
              "State                   0\n",
              "City                    0\n",
              "Zip Code                0\n",
              "Lat Long                0\n",
              "Latitude                0\n",
              "Longitude               0\n",
              "Gender                  0\n",
              "Senior Citizen          0\n",
              "Partner                 0\n",
              "Dependents              0\n",
              "Tenure Months           0\n",
              "Phone Service           0\n",
              "Multiple Lines          0\n",
              "Internet Service        0\n",
              "Online Security         0\n",
              "Online Backup           0\n",
              "Device Protection       0\n",
              "Tech Support            0\n",
              "Streaming TV            0\n",
              "Streaming Movies        0\n",
              "Contract                0\n",
              "Paperless Billing       0\n",
              "Payment Method          0\n",
              "Monthly Charges         0\n",
              "Total Charges           0\n",
              "Churn Label             0\n",
              "Churn Value             0\n",
              "Churn Score             0\n",
              "CLTV                    0\n",
              "Churn Reason         5174\n",
              "dtype: int64"
            ]
          },
          "metadata": {},
          "execution_count": 6
        }
      ]
    },
    {
      "cell_type": "code",
      "source": [
        "data.nunique()"
      ],
      "metadata": {
        "colab": {
          "base_uri": "https://localhost:8080/"
        },
        "id": "nMJO1j1FwQml",
        "outputId": "e0d231c0-a8d1-42fa-bd44-dc7d4ae1cb26"
      },
      "execution_count": 7,
      "outputs": [
        {
          "output_type": "execute_result",
          "data": {
            "text/plain": [
              "CustomerID           7043\n",
              "Count                   1\n",
              "Country                 1\n",
              "State                   1\n",
              "City                 1129\n",
              "Zip Code             1652\n",
              "Lat Long             1652\n",
              "Latitude             1652\n",
              "Longitude            1651\n",
              "Gender                  2\n",
              "Senior Citizen          2\n",
              "Partner                 2\n",
              "Dependents              2\n",
              "Tenure Months          73\n",
              "Phone Service           2\n",
              "Multiple Lines          3\n",
              "Internet Service        3\n",
              "Online Security         3\n",
              "Online Backup           3\n",
              "Device Protection       3\n",
              "Tech Support            3\n",
              "Streaming TV            3\n",
              "Streaming Movies        3\n",
              "Contract                3\n",
              "Paperless Billing       2\n",
              "Payment Method          4\n",
              "Monthly Charges      1585\n",
              "Total Charges        6531\n",
              "Churn Label             2\n",
              "Churn Value             2\n",
              "Churn Score            85\n",
              "CLTV                 3438\n",
              "Churn Reason           20\n",
              "dtype: int64"
            ]
          },
          "metadata": {},
          "execution_count": 7
        }
      ]
    },
    {
      "cell_type": "markdown",
      "source": [
        "Exploration Data Analysis\n",
        "1.Customer Data Exploration"
      ],
      "metadata": {
        "id": "-Fs8fezxN6Mt"
      }
    },
    {
      "cell_type": "code",
      "source": [
        "#Customer churn data analysis\n",
        "#Target Variable Exploration\n",
        "colors = ('#1f6310','#ffa600')\n",
        "explode = (0.1,0.0)\n",
        "_, ax = plt.subplots(figsize=(10,6))\n",
        "data.groupby(\"Churn Label\").size().plot(kind='pie', autopct='%1.1f%%', colors = colors, explode=explode)\n",
        "ax.set_title(\"Customer Churn Distribution\")\n",
        "ax.set_ylabel('')\n",
        "plt.show()"
      ],
      "metadata": {
        "colab": {
          "base_uri": "https://localhost:8080/",
          "height": 374
        },
        "id": "9utoLccJqLbL",
        "outputId": "96cc7e49-a0b1-41cc-f20c-2e710251cb81"
      },
      "execution_count": 72,
      "outputs": [
        {
          "output_type": "display_data",
          "data": {
            "text/plain": [
              "<Figure size 720x432 with 1 Axes>"
            ],
            "image/png": "[encoded data removed]"
          },
          "metadata": {}
        }
      ]
    },
    {
      "cell_type": "markdown",
      "source": [
        "at least 74% of the customers are not churned according to the data provided"
      ],
      "metadata": {
        "id": "i5W34kwKOHS-"
      }
    },
    {
      "cell_type": "markdown",
      "source": [
        "**1. Demographics Exploration : identify customer representation by demographics in the dataset i.e by gender,age range,partners and dependency according to the dataset.**"
      ],
      "metadata": {
        "id": "1J1wUYz_RwMI"
      }
    },
    {
      "cell_type": "code",
      "source": [
        "#@title Explore customer data by seniority\n",
        "#Explore customer data by seniority\n",
        "explode = (0.1,0.0)\n",
        "colors = ('#1f6310','#ffa600')\n",
        "_, ax = plt.subplots(figsize=(5,5))\n",
        "ax = (data['Senior Citizen'].value_counts()/len(data))\\\n",
        ".plot(kind='pie', autopct='%.1f%%', labels = ['No', 'Yes'],colors =colors,explode = explode)\n",
        "ax.set_title(\"Customer Age Range Distribution by Seniority\")\n",
        "ax.set_ylabel('')\n",
        "plt.show()"
      ],
      "metadata": {
        "colab": {
          "base_uri": "https://localhost:8080/",
          "height": 320
        },
        "id": "0NRVyGctRvmd",
        "outputId": "bb383a40-7870-48c4-fea0-27d0971306b0"
      },
      "execution_count": 70,
      "outputs": [
        {
          "output_type": "display_data",
          "data": {
            "text/plain": [
              "<Figure size 360x360 with 1 Axes>"
            ],
            "image/png": "[encoded data removed]"
          },
          "metadata": {}
        }
      ]
    },
    {
      "cell_type": "markdown",
      "source": [
        "Only 16% of the customers in the dataset are senior citizens therefore the customers are mainly younger citizens"
      ],
      "metadata": {
        "id": "iC94XyA4RACe"
      }
    },
    {
      "cell_type": "code",
      "source": [
        "age_count = data['Gender'].value_counts()\n",
        "print(age_count)\n",
        "age_count_percentage = data['Gender'].value_counts()*100/len(data)\n",
        "age_count_percentage"
      ],
      "metadata": {
        "colab": {
          "base_uri": "https://localhost:8080/"
        },
        "id": "c9hDjUDVT7RY",
        "outputId": "e6c2a4eb-4193-4eb3-f9d3-32dce3c8eab0"
      },
      "execution_count": 20,
      "outputs": [
        {
          "output_type": "stream",
          "name": "stdout",
          "text": [
            "Male      3555\n",
            "Female    3488\n",
            "Name: Gender, dtype: int64\n"
          ]
        },
        {
          "output_type": "execute_result",
          "data": {
            "text/plain": [
              "Male      50.47565\n",
              "Female    49.52435\n",
              "Name: Gender, dtype: float64"
            ]
          },
          "metadata": {},
          "execution_count": 20
        }
      ]
    },
    {
      "cell_type": "code",
      "source": [
        "#@title Customer Gender Distribution\n",
        "\n",
        "colors = ('#1f6310','#ffa600')\n",
        "_, ax = plt.subplots(figsize=(10,6))\n",
        "ax = age_count_percentage\\\n",
        ".plot(kind='pie', autopct='%.1f%%',colors =colors)\n",
        "ax.set_title(\"Customer Gender Representation\")\n",
        "ax.set_ylabel('')\n",
        "plt.show()"
      ],
      "metadata": {
        "colab": {
          "base_uri": "https://localhost:8080/",
          "height": 374
        },
        "id": "7RpjIhEnVAmd",
        "outputId": "4ddf5dd0-d833-4d09-da88-da5ac83f02e9"
      },
      "execution_count": 47,
      "outputs": [
        {
          "output_type": "display_data",
          "data": {
            "text/plain": [
              "<Figure size 720x432 with 1 Axes>"
            ],
            "image/png": "[encoded data removed]"
          },
          "metadata": {}
        }
      ]
    },
    {
      "cell_type": "markdown",
      "source": [
        "**There is almost a balance in the gender representation of the customers with the male gender being slightly higher than females by 1%.**"
      ],
      "metadata": {
        "id": "plGOAuyWbvT9"
      }
    },
    {
      "cell_type": "code",
      "source": [
        "#@title Partner Status Representation\n",
        "\n",
        "partner_count_percentage = data['Partner'].value_counts()*100/len(data)\n",
        "\n",
        "colors = ('#1f6310','#ffa600')\n",
        "_, ax = plt.subplots(figsize=(10,6))\n",
        "ax = partner_count_percentage\\\n",
        ".plot(kind='pie', autopct='%.1f%%',colors =colors)\n",
        "ax.set_title(\"Customer Partner Status Distribution\")\n",
        "ax.set_ylabel('')\n",
        "plt.show()"
      ],
      "metadata": {
        "colab": {
          "base_uri": "https://localhost:8080/",
          "height": 374
        },
        "id": "SCmL8lsxb9_i",
        "outputId": "4c74c2f8-08d7-4492-9ddd-1b9dd561002c"
      },
      "execution_count": 74,
      "outputs": [
        {
          "output_type": "display_data",
          "data": {
            "text/plain": [
              "<Figure size 720x432 with 1 Axes>"
            ],
            "image/png": "[encoded data removed]"
          },
          "metadata": {}
        }
      ]
    },
    {
      "cell_type": "markdown",
      "source": [
        "**52% of the customers do not have partners**"
      ],
      "metadata": {
        "id": "1awOzzOrewi7"
      }
    },
    {
      "cell_type": "code",
      "source": [
        "#@title Customer Dependency Status Representation\n",
        "\n",
        "dependent_count_percentage = data['Dependents'].value_counts()*100/len(data)\n",
        "explode = (0.1,0.0)\n",
        "colors = ('#1f6310','#ffa600')\n",
        "_, ax = plt.subplots(figsize=(10,6))\n",
        "ax = dependent_count_percentage\\\n",
        ".plot(kind='pie', autopct='%.1f%%',colors =colors, explode=explode)\n",
        "ax.set_title(\"Customer Dependency Status Distribution\")\n",
        "ax.set_ylabel('')\n",
        "plt.show()"
      ],
      "metadata": {
        "colab": {
          "base_uri": "https://localhost:8080/",
          "height": 374
        },
        "id": "d48Lc4ytfBlg",
        "outputId": "e1b92c5c-0e96-414c-e2ff-951147c8ad4a"
      },
      "execution_count": 75,
      "outputs": [
        {
          "output_type": "display_data",
          "data": {
            "text/plain": [
              "<Figure size 720x432 with 1 Axes>"
            ],
            "image/png": "[encoded data removed]"
          },
          "metadata": {}
        }
      ]
    },
    {
      "cell_type": "markdown",
      "source": [
        "**At least 77% of the Customers do not have dependents**"
      ],
      "metadata": {
        "id": "BE5svEKqf8jP"
      }
    },
    {
      "cell_type": "code",
      "source": [
        "#Partner and dependency status\n",
        "dependents_partners = data.groupby(['Partner', 'Dependents']).size().unstack()\n",
        "dependents_partners"
      ],
      "metadata": {
        "colab": {
          "base_uri": "https://localhost:8080/",
          "height": 143
        },
        "id": "v16-2FbtgMYz",
        "outputId": "c32ea5b4-15dc-445b-97dd-712af3ab9e76"
      },
      "execution_count": 59,
      "outputs": [
        {
          "output_type": "execute_result",
          "data": {
            "text/plain": [
              "Dependents    No   Yes\n",
              "Partner               \n",
              "No          3339   302\n",
              "Yes         2077  1325"
            ],
            "text/html": [
              "\n",
              "  <div id=\"df-6dc124d9-507b-43e9-ba5c-378841d0f6a3\">\n",
              "    <div class=\"colab-df-container\">\n",
              "      <div>\n",
              "<style scoped>\n",
              "    .dataframe tbody tr th:only-of-type {\n",
              "        vertical-align: middle;\n",
              "    }\n",
              "\n",
              "    .dataframe tbody tr th {\n",
              "        vertical-align: top;\n",
              "    }\n",
              "\n",
              "    .dataframe thead th {\n",
              "        text-align: right;\n",
              "    }\n",
              "</style>\n",
              "<table border=\"1\" class=\"dataframe\">\n",
              "  <thead>\n",
              "    <tr style=\"text-align: right;\">\n",
              "      <th>Dependents</th>\n",
              "      <th>No</th>\n",
              "      <th>Yes</th>\n",
              "    </tr>\n",
              "    <tr>\n",
              "      <th>Partner</th>\n",
              "      <th></th>\n",
              "      <th></th>\n",
              "    </tr>\n",
              "  </thead>\n",
              "  <tbody>\n",
              "    <tr>\n",
              "      <th>No</th>\n",
              "      <td>3339</td>\n",
              "      <td>302</td>\n",
              "    </tr>\n",
              "    <tr>\n",
              "      <th>Yes</th>\n",
              "      <td>2077</td>\n",
              "      <td>1325</td>\n",
              "    </tr>\n",
              "  </tbody>\n",
              "</table>\n",
              "</div>\n",
              "      <button class=\"colab-df-convert\" onclick=\"convertToInteractive('df-6dc124d9-507b-43e9-ba5c-378841d0f6a3')\"\n",
              "              title=\"Convert this dataframe to an interactive table.\"\n",
              "              style=\"display:none;\">\n",
              "        \n",
              "  <svg xmlns=\"http://www.w3.org/2000/svg\" height=\"24px\"viewBox=\"0 0 24 24\"\n",
              "       width=\"24px\">\n",
              "    <path d=\"M0 0h24v24H0V0z\" fill=\"none\"/>\n",
              "    <path d=\"M18.56 5.44l.94 2.06.94-2.06 2.06-.94-2.06-.94-.94-2.06-.94 2.06-2.06.94zm-11 1L8.5 8.5l.94-2.06 2.06-.94-2.06-.94L8.5 2.5l-.94 2.06-2.06.94zm10 10l.94 2.06.94-2.06 2.06-.94-2.06-.94-.94-2.06-.94 2.06-2.06.94z\"/><path d=\"M17.41 7.96l-1.37-1.37c-.4-.4-.92-.59-1.43-.59-.52 0-1.04.2-1.43.59L10.3 9.45l-7.72 7.72c-.78.78-.78 2.05 0 2.83L4 21.41c.39.39.9.59 1.41.59.51 0 1.02-.2 1.41-.59l7.78-7.78 2.81-2.81c.8-.78.8-2.07 0-2.86zM5.41 20L4 18.59l7.72-7.72 1.47 1.35L5.41 20z\"/>\n",
              "  </svg>\n",
              "      </button>\n",
              "      \n",
              "  <style>\n",
              "    .colab-df-container {\n",
              "      display:flex;\n",
              "      flex-wrap:wrap;\n",
              "      gap: 12px;\n",
              "    }\n",
              "\n",
              "    .colab-df-convert {\n",
              "      background-color: #E8F0FE;\n",
              "      border: none;\n",
              "      border-radius: 50%;\n",
              "      cursor: pointer;\n",
              "      display: none;\n",
              "      fill: #1967D2;\n",
              "      height: 32px;\n",
              "      padding: 0 0 0 0;\n",
              "      width: 32px;\n",
              "    }\n",
              "\n",
              "    .colab-df-convert:hover {\n",
              "      background-color: #E2EBFA;\n",
              "      box-shadow: 0px 1px 2px rgba(60, 64, 67, 0.3), 0px 1px 3px 1px rgba(60, 64, 67, 0.15);\n",
              "      fill: #174EA6;\n",
              "    }\n",
              "\n",
              "    [theme=dark] .colab-df-convert {\n",
              "      background-color: #3B4455;\n",
              "      fill: #D2E3FC;\n",
              "    }\n",
              "\n",
              "    [theme=dark] .colab-df-convert:hover {\n",
              "      background-color: #434B5C;\n",
              "      box-shadow: 0px 1px 3px 1px rgba(0, 0, 0, 0.15);\n",
              "      filter: drop-shadow(0px 1px 2px rgba(0, 0, 0, 0.3));\n",
              "      fill: #FFFFFF;\n",
              "    }\n",
              "  </style>\n",
              "\n",
              "      <script>\n",
              "        const buttonEl =\n",
              "          document.querySelector('#df-6dc124d9-507b-43e9-ba5c-378841d0f6a3 button.colab-df-convert');\n",
              "        buttonEl.style.display =\n",
              "          google.colab.kernel.accessAllowed ? 'block' : 'none';\n",
              "\n",
              "        async function convertToInteractive(key) {\n",
              "          const element = document.querySelector('#df-6dc124d9-507b-43e9-ba5c-378841d0f6a3');\n",
              "          const dataTable =\n",
              "            await google.colab.kernel.invokeFunction('convertToInteractive',\n",
              "                                                     [key], {});\n",
              "          if (!dataTable) return;\n",
              "\n",
              "          const docLinkHtml = 'Like what you see? Visit the ' +\n",
              "            '<a target=\"_blank\" href=https://colab.research.google.com/notebooks/data_table.ipynb>data table notebook</a>'\n",
              "            + ' to learn more about interactive tables.';\n",
              "          element.innerHTML = '';\n",
              "          dataTable['output_type'] = 'display_data';\n",
              "          await google.colab.output.renderOutput(dataTable, element);\n",
              "          const docLink = document.createElement('div');\n",
              "          docLink.innerHTML = docLinkHtml;\n",
              "          element.appendChild(docLink);\n",
              "        }\n",
              "      </script>\n",
              "    </div>\n",
              "  </div>\n",
              "  "
            ]
          },
          "metadata": {},
          "execution_count": 59
        }
      ]
    },
    {
      "cell_type": "code",
      "source": [
        "colors = ('#1f6310','#ffa600')\n",
        "\n",
        "ax = (dependents_partners.plot(kind='bar',width = 0.2,stacked = True,rot = 0,figsize = (8,6),color= colors))\n",
        "ax.set_title(\"Customers with or without Partners and their dependency status\")\n",
        "ax.set_ylabel('Count')\n",
        "ax.legend(prop={'size':14},title = 'Dependents',fontsize =14)\n",
        "ax.set_xlabel('Partner')\n",
        "plt.show()"
      ],
      "metadata": {
        "colab": {
          "base_uri": "https://localhost:8080/",
          "height": 408
        },
        "id": "_70Kq1m2t9gl",
        "outputId": "85280297-0004-4fd1-fdef-30f6e55dcec8"
      },
      "execution_count": 76,
      "outputs": [
        {
          "output_type": "display_data",
          "data": {
            "text/plain": [
              "<Figure size 576x432 with 1 Axes>"
            ],
            "image/png": "[encoded data removed]"
          },
          "metadata": {}
        }
      ]
    },
    {
      "cell_type": "markdown",
      "source": [
        "**Customers who have no partners have fewer dependents compared to those who have partners**"
      ],
      "metadata": {
        "id": "XTORF5KAzcSn"
      }
    },
    {
      "cell_type": "markdown",
      "source": [
        "**2. Customer Account Information Exploration: explore customer tenure and contracts**\n"
      ],
      "metadata": {
        "id": "6Exx6PjX20jl"
      }
    },
    {
      "cell_type": "code",
      "source": [
        "ax= sns.distplot(data['Tenure Months'],hist=True, bins= int(180/5), color='#20610f',kde=False, hist_kws={'edgecolor':'black'},\n",
        "             kde_kws={'linewidth': 4})\n",
        "ax.set_ylabel('No of Customers')\n",
        "ax.set_xlabel('Tenure (months)')\n",
        "ax.set_title('No of Customers by their tenure')\n",
        "plt.show()"
      ],
      "metadata": {
        "colab": {
          "base_uri": "https://localhost:8080/",
          "height": 354
        },
        "id": "AacDN2o4zpPf",
        "outputId": "b5899562-e6de-4415-97aa-85af0e6e484d"
      },
      "execution_count": 82,
      "outputs": [
        {
          "output_type": "stream",
          "name": "stderr",
          "text": [
            "/usr/local/lib/python3.7/dist-packages/seaborn/distributions.py:2619: FutureWarning: `distplot` is a deprecated function and will be removed in a future version. Please adapt your code to use either `displot` (a figure-level function with similar flexibility) or `histplot` (an axes-level function for histograms).\n",
            "  warnings.warn(msg, FutureWarning)\n"
          ]
        },
        {
          "output_type": "display_data",
          "data": {
            "text/plain": [
              "<Figure size 432x288 with 1 Axes>"
            ],
            "image/png": "[encoded data removed]"
          },
          "metadata": {}
        }
      ]
    },
    {
      "cell_type": "markdown",
      "source": [
        "**From the above plot, A lot of customers have been with the company for just a month while also quite a bunch have been there for at least 72 months. The difference could be because different customers have different contracts with the company.**"
      ],
      "metadata": {
        "id": "2NDDnDrX7qRX"
      }
    },
    {
      "cell_type": "code",
      "source": [
        "#Customer contracts\n",
        "contract_counts = data['Contract'].value_counts()\n",
        "contract_counts\n"
      ],
      "metadata": {
        "colab": {
          "base_uri": "https://localhost:8080/"
        },
        "id": "6XA3tRy88NAm",
        "outputId": "2a4204bb-2353-4e7d-c42c-db6739721426"
      },
      "execution_count": 83,
      "outputs": [
        {
          "output_type": "execute_result",
          "data": {
            "text/plain": [
              "Month-to-month    3875\n",
              "Two year          1695\n",
              "One year          1473\n",
              "Name: Contract, dtype: int64"
            ]
          },
          "metadata": {},
          "execution_count": 83
        }
      ]
    },
    {
      "cell_type": "code",
      "source": [
        "ax = contract_counts.plot(kind = 'bar',rot = 0, width = 0.3, color= '#1f6310', figsize=(10,6))\n",
        "ax.set_ylabel('No of Customers')\n",
        "ax.set_title('Customers Representation by Contract Type')\n"
      ],
      "metadata": {
        "colab": {
          "base_uri": "https://localhost:8080/",
          "height": 408
        },
        "id": "KzFbrtQwBVFv",
        "outputId": "6b20de75-0eae-4be8-c3ea-e5dfad2fba4d"
      },
      "execution_count": 86,
      "outputs": [
        {
          "output_type": "execute_result",
          "data": {
            "text/plain": [
              "Text(0.5, 1.0, 'Customers Representation by Contract Type')"
            ]
          },
          "metadata": {},
          "execution_count": 86
        },
        {
          "output_type": "display_data",
          "data": {
            "text/plain": [
              "<Figure size 720x432 with 1 Axes>"
            ],
            "image/png": "[encoded data removed]"
          },
          "metadata": {}
        }
      ]
    },
    {
      "cell_type": "markdown",
      "source": [
        "**From the above plot, Most customers are based on a Month-to- Month Contract with the company**"
      ],
      "metadata": {
        "id": "8YinYRLLCo_E"
      }
    },
    {
      "cell_type": "code",
      "source": [
        ""
      ],
      "metadata": {
        "id": "zeX7DmWXDQs6"
      },
      "execution_count": null,
      "outputs": []
    }
  ]
}